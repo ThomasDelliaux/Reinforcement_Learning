{
  "nbformat": 4,
  "nbformat_minor": 0,
  "metadata": {
    "colab": {
      "provenance": [],
      "collapsed_sections": [
        "IAE8kMxe6E6k",
        "vY4MH0nU637o",
        "YB__2uUC5U1r",
        "L4hKBRTCh6Gk",
        "NR7h5won9NQY",
        "313W4K3B_LtN",
        "8MqGWPPD_OAI",
        "fKmdulLaMoiN",
        "mbYTKetHOYU_",
        "7jx7aE41DkEM"
      ]
    },
    "kernelspec": {
      "name": "python3",
      "display_name": "Python 3"
    },
    "language_info": {
      "name": "python"
    },
    "gpuClass": "standard"
  },
  "cells": [
    {
      "cell_type": "markdown",
      "metadata": {
        "id": "IAE8kMxe6E6k"
      },
      "source": [
        "# MVA - Homework 1 - Reinforcement Learning (2022/2023)\n",
        "\n",
        "**Name:** DELLIAUX Thomas"
      ]
    },
    {
      "cell_type": "markdown",
      "metadata": {
        "id": "vY4MH0nU637o"
      },
      "source": [
        "## Instructions\n",
        "\n",
        "* The deadline is **November 10 at 11:59 pm (Paris time).**\n",
        "\n",
        "* By doing this homework you agree to the late day policy, collaboration and misconduct rules reported on [Piazza](https://piazza.com/class/l4y5ubadwj64mb/post/6).\n",
        "\n",
        "* **Mysterious or unsupported answers will not receive full credit**. A correct answer, unsupported by calculations, explanation, or algebraic work will receive no credit; an incorrect answer supported by substantially correct calculations and explanations might still receive partial credit.\n",
        "\n",
        "* Answers should be provided in **English**."
      ]
    },
    {
      "cell_type": "markdown",
      "metadata": {
        "id": "YB__2uUC5U1r"
      },
      "source": [
        "# Colab setup"
      ]
    },
    {
      "cell_type": "code",
      "metadata": {
        "id": "2XNj1_VZ2FGJ",
        "colab": {
          "base_uri": "https://localhost:8080/"
        },
        "outputId": "d142c587-753c-4ae4-9f69-6dfe00e6e525"
      },
      "source": [
        "from IPython import get_ipython\n",
        "\n",
        "if 'google.colab' in str(get_ipython()):\n",
        "  # install rlberry library\n",
        "  !pip install git+https://github.com/rlberry-py/rlberry.git@mva2021#egg=rlberry[default] > /dev/null 2>&1\n",
        "\n",
        "  # install ffmpeg-python for saving videos\n",
        "  !pip install ffmpeg-python > /dev/null 2>&1\n",
        "\n",
        "  # packages required to show video\n",
        "  !pip install pyvirtualdisplay > /dev/null 2>&1\n",
        "  !apt-get install -y xvfb python-opengl ffmpeg > /dev/null 2>&1\n",
        "\n",
        "  print(\"Libraries installed, please restart the runtime!\")\n"
      ],
      "execution_count": null,
      "outputs": [
        {
          "output_type": "stream",
          "name": "stdout",
          "text": [
            "Libraries installed, please restart the runtime!\n"
          ]
        }
      ]
    },
    {
      "cell_type": "code",
      "metadata": {
        "id": "s8F7RiPXjutB"
      },
      "source": [
        "# Create directory for saving videos\n",
        "!mkdir videos > /dev/null 2>&1\n",
        "\n",
        "# Initialize display and import function to show videos\n",
        "import rlberry.colab_utils.display_setup\n",
        "from rlberry.colab_utils.display_setup import show_video"
      ],
      "execution_count": null,
      "outputs": []
    },
    {
      "cell_type": "code",
      "metadata": {
        "id": "KISV44N_nCNm"
      },
      "source": [
        "# Useful libraries\n",
        "import numpy as np\n",
        "import matplotlib.pyplot as plt"
      ],
      "execution_count": null,
      "outputs": []
    },
    {
      "cell_type": "markdown",
      "metadata": {
        "id": "L4hKBRTCh6Gk"
      },
      "source": [
        "# Preparation\n",
        "\n",
        "In the coding exercises, you will use a *grid-world* MDP, which is represented in Python using the interface provided by the [Gym](https://gym.openai.com/) library. The cells below show how to interact with this MDP and how to visualize it.\n"
      ]
    },
    {
      "cell_type": "code",
      "metadata": {
        "id": "514mHDeQooKa"
      },
      "source": [
        "from rlberry.envs import GridWorld\n",
        "\n",
        "def get_env():\n",
        "  \"\"\"Creates an instance of a grid-world MDP.\"\"\"\n",
        "  env = GridWorld(\n",
        "      nrows=5,\n",
        "      ncols=7,\n",
        "      reward_at = {(0, 6):1.0},\n",
        "      walls=((0, 4),(1, 4), (2, 4), (3, 4)),\n",
        "      success_probability=0.9,\n",
        "      terminal_states=((0, 6),)\n",
        "  )\n",
        "  return env\n",
        "\n",
        "def render_policy(env, policy=None, horizon=50):\n",
        "  \"\"\"Visualize a policy in an environment\n",
        "\n",
        "  Args:\n",
        "    env: GridWorld\n",
        "        environment where to run the policy\n",
        "    policy: np.array\n",
        "        matrix mapping states to action (Ns).\n",
        "        If None, runs random policy.\n",
        "    horizon: int\n",
        "        maximum number of timesteps in the environment.\n",
        "  \"\"\"\n",
        "  env.enable_rendering()\n",
        "  state = env.reset()                       # get initial state\n",
        "  for timestep in range(horizon):\n",
        "      if policy is None:\n",
        "        action = env.action_space.sample()  # take random actions\n",
        "      else:\n",
        "        action = policy[state]\n",
        "      next_state, reward, is_terminal, info = env.step(action)\n",
        "      state = next_state\n",
        "      if is_terminal:\n",
        "        break\n",
        "  # save video and clear buffer\n",
        "  env.save_video('./videos/gw.mp4', framerate=5)\n",
        "  env.clear_render_buffer()\n",
        "  env.disable_rendering()\n",
        "  # show video\n",
        "  show_video('./videos/gw.mp4')\n"
      ],
      "execution_count": null,
      "outputs": []
    },
    {
      "cell_type": "code",
      "metadata": {
        "id": "hQAHUBw_ifMI",
        "colab": {
          "base_uri": "https://localhost:8080/",
          "height": 543
        },
        "outputId": "72b161e2-3a04-4729-da7f-72cc70784c06"
      },
      "source": [
        "# Create an environment and visualize it\n",
        "env = get_env()\n",
        "render_policy(env)  # visualize random policy\n",
        "\n",
        "# The reward function and transition probabilities can be accessed through\n",
        "# the R and P attributes:\n",
        "print(f\"Shape of the reward array = (S, A) = {env.R.shape}\")\n",
        "print(f\"Shape of the transition array = (S, A, S) = {env.P.shape}\")\n",
        "print(f\"Reward at (s, a) = (1, 0): {env.R[1, 0]}\")\n",
        "print(f\"Prob[s\\'=2 | s=1, a=0]: {env.P[1, 0, 2]}\")\n",
        "print(f\"Number of states and actions: {env.Ns}, {env.Na}\")\n",
        "\n",
        "# The states in the griworld correspond to (row, col) coordinates.\n",
        "# The environment provides a mapping between (row, col) and the index of\n",
        "# each state:\n",
        "print(f\"Index of state (1, 0): {env.coord2index[(1, 0)]}\")\n",
        "print(f\"Coordinates of state 5: {env.index2coord[5]}\")"
      ],
      "execution_count": null,
      "outputs": [
        {
          "output_type": "display_data",
          "data": {
            "text/plain": [
              "<IPython.core.display.HTML object>"
            ],
            "text/html": [
              "<video alt=\"videos/gw.mp4\" autoplay\n",
              "                      loop controls style=\"height: 400px;\">\n",
              "                    <source src=\"data:video/mp4;base64,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\" type=\"video/mp4\" />\n",
              "                 </video>"
            ]
          },
          "metadata": {}
        },
        {
          "output_type": "stream",
          "name": "stdout",
          "text": [
            "Shape of the reward array = (S, A) = (31, 4)\n",
            "Shape of the transition array = (S, A, S) = (31, 4, 31)\n",
            "Reward at (s, a) = (1, 0): 0.0\n",
            "Prob[s'=2 | s=1, a=0]: 0.04999999999999999\n",
            "Number of states and actions: 31, 4\n",
            "Index of state (1, 0): 6\n",
            "Coordinates of state 5: (0, 6)\n"
          ]
        }
      ]
    },
    {
      "cell_type": "markdown",
      "metadata": {
        "id": "ibGD_3I89CNu"
      },
      "source": [
        "# Part 1 - Dynamic Programming"
      ]
    },
    {
      "cell_type": "markdown",
      "metadata": {
        "id": "NR7h5won9NQY"
      },
      "source": [
        "## Question 1.1\n",
        "\n",
        "Consider a general MDP with a discount factor of $\\gamma < 1$. Assume that the horizon is infinite (so there is no termination). A policy $\\pi$ in this MDP\n",
        "induces a value function $V^\\pi$. Suppose an affine transformation is applied to the reward, what is\n",
        "the new value function? Is the optimal policy preserved?\n",
        "\n"
      ]
    },
    {
      "cell_type": "markdown",
      "metadata": {
        "id": "313W4K3B_LtN"
      },
      "source": [
        "### **Answer**\n",
        "\n",
        "Let define $r'(s,a)= wr(s,a)+b$, where $w,b\\in R$.Let $s\\in S$ we have : \n",
        "$$\\begin{equation}\n",
        "\\begin{split}\n",
        "V'(s) &=\\mathbb{E}[\\sum_{t=0}^{+\\infty}\\gamma^tr'(s_t,a_t)]\\\\\n",
        "&=\\mathbb{E}[\\sum_{t=0}^{+\\infty}\\gamma^t(wr(s_t,a_t)+b)]\\\\\n",
        "&=w\\mathbb{E}[\\sum_{t=0}^{+\\infty}\\gamma^tr(s_t,a_t))]+b\\sum_{t=0}^{+\\infty}\\gamma^t\\\\\n",
        "&=w\\times V(s)+\\frac{b}{1-\\gamma}\n",
        "\\end{split}\n",
        "\\end{equation}$$\n",
        "Hence $V'(s)=wV(s)+\\frac{b}{1-\\gamma},\\forall s \\in S$.\n",
        "Now let's see if the optimal policy is preserved.\n",
        "If $w>0$, let $s \\in S$, we have : \n",
        "$$V^{'*}(s)=\\max_\\pi V^{'\\pi}(s)=\\max_\\pi wV^\\pi(s)+\\frac{b}{1-\\gamma}=w(\\max_\\pi V^\\pi(s))+\\frac{b}{1-\\gamma}$$, so $\\pi \\mapsto V^{' \\pi}(s)$ reaches its maximum in $\\pi^*$. The optimal policy is preserved.\n",
        "\n",
        "If w=0, let $s \\in S$, we have :\n",
        "$$V^{'\\pi}(s)=0.V^\\pi(s)+\\frac{b}{1-\\gamma}=\\frac{b}{1-\\gamma}$$, so $\\pi \\mapsto V^{' \\pi}(s)$ reaches its maximum, $\\frac{b}{1-\\gamma}$, for any policies since it is constant. The optimal policy is not preserved.\n",
        "\n",
        "If w<0, let $s \\in S$, we have : \n",
        "\n",
        "$$V^{'*}(s)=\\max_\\pi V^{'\\pi}(s)=\\max_\\pi wV^\\pi(s)+\\frac{b}{1-\\gamma}=w(\\min_\\pi V^\\pi(s))+\\frac{b}{1-\\gamma}$$, so we optimal policy is not preserved since $\\pi \\mapsto V^{'\\pi}(s)$ reaches its maximum when  $\\pi \\mapsto V^{\\pi}(s)$ reaches its minimum. $\\pi^*$ can't be a solution of $\\max_\\pi V^{'\\pi}(s)$.\n"
      ]
    },
    {
      "cell_type": "markdown",
      "metadata": {
        "id": "0uCVgkDo9vTM"
      },
      "source": [
        "## Question 1.2\n",
        "\n",
        "Consider an infinite-horizon $\\gamma$-discounted MDP. We denote by $Q^*$ the $Q$-function of the optimal policy $\\pi^*$. Prove that, for any function $Q(s, a)$ (which is **not** necessarily the value function of a policy), the following inequality holds for any state $s$:\n",
        "\n",
        "$$\n",
        "V^{\\pi_Q}(s) \\geq V^*(s) - \\frac{2}{1-\\gamma}||Q^*-Q||_\\infty,\n",
        "$$\n",
        "\n",
        "where $||Q^*-Q||_\\infty = \\max_{s, a} |Q^*(s, a) - Q(s, a)|$ and $\\pi_Q(s) \\in \\arg\\max_a Q(s, a)$. Can you use this result to show that any policy $\\pi$ such that $\\pi(s) \\in \\arg\\max_a Q^*(s, a)$ is optimal?"
      ]
    },
    {
      "cell_type": "markdown",
      "metadata": {
        "id": "8MqGWPPD_OAI"
      },
      "source": [
        "### **Answer**\n",
        "\n",
        "Let $s∈S$, we have :\n",
        "$$\n",
        "\\begin{equation}\n",
        "\\begin{split}\n",
        "2\\left\\|Q^*-Q\\right\\|_{\\infty}&\\geq \\left|Q^*(s,\\pi ^*(s))-Q(s,\\pi^*(s))\\right| + \\left|Q(s,\\pi_Q(s))-Q^*(s,\\pi_Q(s))\\right|\\\\\n",
        "&\\geq Q^*(s,\\pi ^*(s))-Q(s,\\pi^*(s))+Q(s,\\pi_Q(s))-Q^*(s,\\pi_Q(s))\\\\\n",
        "&\\geq Q^*(s,\\pi ^*(s))-Q(s,\\pi_Q(s))+Q(s,\\pi_Q(s))-Q^*(s,\\pi_Q(s))=Q^*(s,\\pi ^*(s))-Q^*(s,\\pi_Q(s))\\\\\n",
        "&\\text{ since }Q(s,\\pi^*(s))\\leq Q(s,\\pi_Q(s))\\text{ by definition of } \\pi_Q \\\\\n",
        "\\end{split}\n",
        "\\end{equation}\\\\\n",
        "$$\n",
        "Moreove, we have :\n",
        "$$\n",
        "\\begin{equation}\n",
        "\\begin{split}\n",
        "2\\left\\|Q^*-Q\\right\\|_{\\infty}&\\geq Q^*(s,\\pi ^*(s))-Q^*(s,\\pi_Q(s))\\\\\n",
        "&=Q^*(s,\\pi ^*(s))-Q^{\\pi_Q}(s,\\pi_Q(s))+Q^{\\pi_Q}(s,\\pi_Q(s))-Q^*(s,\\pi_Q(s))\\\\\n",
        "&=V^*(s)-V^{\\pi_Q}(s)+r(s,\\pi_Q(s))+\\gamma\\sum_{s'}\\mathbb{P}(s'|s,\\pi_Q(s))V^{\\pi_Q}(s')-r(s,\\pi_Q(s))-\\gamma\\sum_{s'}\\mathbb{P}(s'|s,\\pi_Q(s))V^{*}(s')\\\\\n",
        "&=V^*(s)-V^{\\pi_Q}(s)-\\gamma\\sum_{s'}\\mathbb{P}(s'|s,\\pi_Q(s))(V^*(s')-V^{\\pi_Q}(s'))\n",
        "\\end{split}\n",
        "\\end{equation}\\\\\n",
        "$$\n",
        "Let's definie $s^*=argmax_{s'}V^*(s')-V^{\\pi_Q}(s')$. We have :\n",
        "$$\n",
        "\\begin{equation}\n",
        "\\begin{split}\n",
        "2\\left\\|Q^*-Q\\right\\|_{\\infty}&\\geq V^*(s^*)-V^{\\pi_Q}(s^*)-\\gamma\\sum_{s'}\\mathbb{P}(s'|s,\\pi_Q(s))(V^*(s^*)-V^{\\pi_Q}(s^*))\\\\\n",
        "&=(1-\\gamma)( V^*(s^*)-V^{\\pi_Q}(s^*))\\text{ since }\\sum_{s'}\\mathbb{P}(s'|s,\\pi_Q(s))=1\\\\\n",
        "&\\geq(1-\\gamma)( V^*(s)-V^{\\pi_Q}(s))\\text{ for all }s \\in S \\text{ by definition of }s^*\\text{ and } 1-\\gamma\\geq0\n",
        "\\end{split}\n",
        "\\end{equation}\\\\\n",
        "$$\n",
        "We can deduce from that :\n",
        "$$\n",
        "V^{\\pi_Q}(s)\\geq V^*(s)-\\frac{2}{1-\\gamma}\\left\\|Q^*-Q\\right\\|_{\\infty}\n",
        "$$\n",
        "We can use this result to show that any policy $\\pi(s) \\in \\arg\\max_a Q^*(s, a)$ is optimal. Indeed, if we replace in our inequality Q by Q* and $\\pi_Q$ by $\\pi$, we obtain : \n",
        "$V^{\\pi}(s)\\geq V^*(s) \\forall s\\in S$. Since V* is the maximum over all the policy we have $V^{\\pi}=V^*$, and so $\\pi$ is an optimal policy. "
      ]
    },
    {
      "cell_type": "markdown",
      "metadata": {
        "id": "yIrtb7sihYcM"
      },
      "source": [
        "## Question 1.3\n",
        "\n",
        "In this question, you will implement and compare the policy and value iteration algorithms for a finite MDP. \n",
        "\n",
        "Complete the functions `policy_evaluation`, `policy_iteration` and `value_iteration` below.\n",
        "\n",
        "\n",
        "Compare value iteration and policy iteration. Highlight pros and cons of each method."
      ]
    },
    {
      "cell_type": "markdown",
      "metadata": {
        "id": "GLmQtk-wt0HS"
      },
      "source": [
        "### **Answer**\n",
        "\n",
        "[pros/cons of each method + implementation below]\n",
        "\n",
        "The advantage of policy iteration is that we have an dynamic stop condition, that is, we know that the algorithm has converged when $V_{k+1}=V_k$. While for the value iteration we use $K=\\left \\lceil \\frac{\\frac{log(1-\\gamma)\\epsilon}{rmax}}{log(\\gamma)}  \\right \\rceil$ to ensure to have the same level of precision, $\\epsilon>0$, for the both algorithms. But we may make to many iterations, as we can see on the graph which plot the convergence over the iteration of the value iteration algorithm. So we policy iteration is likely to converge in less iterations. \n",
        "\n",
        "But the cost of each iterations is greater for the policy iteration.Indeed, for each iteration we have evaluate the last policy found, and after the compute the new policy with the new value function. While with the value iteration, we just update the Q-function.\n",
        "\n",
        "So to summerize :\n",
        "\n",
        "-The policy iteration is likely to converge in less iterations but the cost of each iteration is greater, since we have to evaluate the policy at each iteration.\n",
        "\n",
        "\n",
        "-The value iteration is likely ton converge in more iterations but the cost of each iteration is lower, since we juste compute Q."
      ]
    },
    {
      "cell_type": "code",
      "metadata": {
        "id": "9yI0YYtMmpDQ"
      },
      "source": [
        "def policy_evaluation(P, R, policy, gamma=0.9, tol=1e-2):\n",
        "    \"\"\"\n",
        "    Args:\n",
        "        P: np.array\n",
        "            transition matrix (NsxNaxNs)\n",
        "        R: np.array\n",
        "            reward matrix (NsxNa)\n",
        "        policy: np.array\n",
        "            matrix mapping states to action (Ns)\n",
        "        gamma: float\n",
        "            discount factor\n",
        "        tol: float\n",
        "            precision of the solution\n",
        "    Return:\n",
        "        value_function: np.array\n",
        "            The value function of the given policy\n",
        "    \"\"\"\n",
        "    Ns, Na = R.shape\n",
        "    # ====================================================\n",
        "\t  # YOUR IMPLEMENTATION HERE \n",
        "    \n",
        "    #I define value_function_prev to evaluate when to stop the iterations.\n",
        "    value_function_prev=np.ones(Ns)\n",
        "    value_function = np.zeros(Ns)\n",
        "    #If we want  value_function at a distance tol of our true fixe point, according to the\n",
        "    #fixe point theorem, we need to have np.linalg.norm(value_function-value_function_prev,ord=np.inf)<=tol*(1-gamma).\n",
        "    while np.linalg.norm(value_function-value_function_prev,ord=np.inf)>tol*(1-gamma):\n",
        "      value_function_prev=value_function.copy()\n",
        "\n",
        "      #Update the value_function by applying the bellman operator.\n",
        "      for s in range(Ns):\n",
        "        value_function[s]=R[s,policy[s]]+gamma*np.dot(P[s,policy[s]],value_function)\n",
        "    # ====================================================\n",
        "    return value_function"
      ],
      "execution_count": null,
      "outputs": []
    },
    {
      "cell_type": "code",
      "metadata": {
        "id": "ncqbPx99ncVY"
      },
      "source": [
        "def policy_iteration(P, R, gamma=0.9, tol=1e-3):\n",
        "    \"\"\"\n",
        "    Args:\n",
        "        P: np.array\n",
        "            transition matrix (NsxNaxNs)\n",
        "        R: np.array\n",
        "            reward matrix (NsxNa)\n",
        "        gamma: float\n",
        "            discount factor\n",
        "        tol: float\n",
        "            precision of the solution\n",
        "    Return:\n",
        "        policy: np.array\n",
        "            the final policy\n",
        "        V: np.array\n",
        "            the value function associated to the final policy\n",
        "    \"\"\"\n",
        "    Ns, Na = R.shape\n",
        "    V_prev=np.ones(Ns)\n",
        "    V = np.zeros(Ns)\n",
        "    policy = np.ones(Ns, dtype=int)   \n",
        "    # ====================================================\n",
        "\t  # YOUR IMPLEMENTATION HERE \n",
        "    #\n",
        "\n",
        "    #Perfom the udpate until we get the desired accuracy.\n",
        "    while np.linalg.norm(V-V_prev,ord=np.inf)>tol:\n",
        "      V_prev = V.copy()\n",
        "      #Compute the value function associated with the current policy.\n",
        "      V = policy_evaluation(P,R,policy,gamma,tol)\n",
        "      for s in range(Ns):\n",
        "        #Compute the greedy policy.\n",
        "        policy[s] = np.argmax(R[s,:]+gamma*np.dot(P[s,:],V))\n",
        "\n",
        "    # ====================================================\n",
        "    return policy, V"
      ],
      "execution_count": null,
      "outputs": []
    },
    {
      "cell_type": "code",
      "metadata": {
        "id": "3jB7dfA5nRCZ"
      },
      "source": [
        "def value_iteration(P, R, gamma=0.9, tol=1e-3):\n",
        "    \"\"\"\n",
        "    Args:\n",
        "        P: np.array\n",
        "            transition matrix (NsxNaxNs)\n",
        "        R: np.array\n",
        "            reward matrix (NsxNa)\n",
        "        gamma: float\n",
        "            discount factor\n",
        "        tol: float\n",
        "            precision of the solution\n",
        "    Return:\n",
        "        Q: final Q-function (at iteration n)\n",
        "        greedy_policy: greedy policy wrt Qn\n",
        "        Qfs: all Q-functions generated by the algorithm (for visualization)\n",
        "    \"\"\"\n",
        "    Ns, Na = R.shape\n",
        "    Q = np.zeros((Ns, Na))\n",
        "    Qfs = [Q.copy()]\n",
        "    # ====================================================\n",
        "\t  # YOUR IMPLEMENTATION HERE \n",
        "    #\n",
        "    rmax=np.max(R)\n",
        "    \n",
        "    K = int(np.ceil(np.log(((1-gamma)*tol)/rmax)/np.log(gamma)))\n",
        "    \n",
        "    for _ in range(K):\n",
        "      for a in range(Na):\n",
        "        for s in range(Ns):\n",
        "          Q[s,a]=R[s,a]+gamma*np.dot(P[s,a],np.max(Q,axis=1))\n",
        "      Qfs.append(Q.copy())\n",
        "    \n",
        "    greedy_policy = np.argmax(Q, axis=1)\n",
        "    # ====================================================\n",
        "    return Q, greedy_policy, Qfs"
      ],
      "execution_count": null,
      "outputs": []
    },
    {
      "cell_type": "markdown",
      "metadata": {
        "id": "-Fi0IzZJp74Z"
      },
      "source": [
        "### Testing your code"
      ]
    },
    {
      "cell_type": "code",
      "metadata": {
        "id": "P7JKrc1oqFI2",
        "colab": {
          "base_uri": "https://localhost:8080/",
          "height": 1000
        },
        "outputId": "bb633c09-0d0b-463a-ca50-8e2a74ed3295"
      },
      "source": [
        "# Parameters\n",
        "tol = 1e-5\n",
        "gamma = 0.99\n",
        "\n",
        "# Environment\n",
        "env = get_env()\n",
        "\n",
        "# run value iteration to obtain Q-values\n",
        "VI_Q, VI_greedypol, all_qfunctions = value_iteration(env.P, env.R, gamma=gamma, tol=tol)\n",
        "\n",
        "# render the policy\n",
        "print(\"[VI]Greedy policy: \")\n",
        "render_policy(env, VI_greedypol)\n",
        "\n",
        "# compute the value function of the greedy policy using matrix inversion\n",
        "# ====================================================\n",
        "# YOUR IMPLEMENTATION HERE \n",
        "# compute value function of the greedy policy\n",
        "#\n",
        "Ns=env.R.shape[0]\n",
        "Na=env.Na\n",
        "P_greedypol = np.zeros((Ns,Ns))\n",
        "R_greedypol = np.zeros(Ns)\n",
        "#Compute R and  P for he greedy_policy\n",
        "for s in range(Ns):\n",
        "  a = VI_greedypol[s]\n",
        "  R_greedypol[s]=env.R[s,a]\n",
        "  P_greedypol[s,:]=env.P[s,a,:]\n",
        "#Apply the course formula to compute greedy_V by inversion.\n",
        "greedy_V = np.linalg.inv(np.eye(Ns)-gamma*P_greedypol)@R_greedypol\n",
        "\n",
        "# ====================================================\n",
        "\n",
        "# show the error between the computed V-functions and the final V-function\n",
        "# (that should be the optimal one, if correctly implemented)\n",
        "# as a function of time\n",
        "final_V = all_qfunctions[-1].max(axis=1)\n",
        "norms = [ np.linalg.norm(q.max(axis=1) - final_V) for q in all_qfunctions]\n",
        "plt.plot(norms)\n",
        "plt.xlabel('Iteration')\n",
        "plt.ylabel('Error')\n",
        "plt.title(\"Value iteration: convergence\")\n",
        "\n",
        "#### POLICY ITERATION ####\n",
        "PI_policy, PI_V = policy_iteration(env.P, env.R, gamma=gamma, tol=tol)\n",
        "print(\"\\n[PI]final policy: \")\n",
        "render_policy(env, PI_policy)\n",
        "\n",
        "## Uncomment below to check that everything is correct\n",
        "assert np.allclose(PI_policy, VI_greedypol),\\\n",
        "     \"You should check the code, the greedy policy computed by VI is not equal to the solution of PI\"\n",
        "assert np.allclose(PI_V, greedy_V),\\\n",
        "     \"Since the policies are equal, even the value function should be\"\n",
        "\n",
        "plt.show()"
      ],
      "execution_count": null,
      "outputs": [
        {
          "output_type": "stream",
          "name": "stdout",
          "text": [
            "[VI]Greedy policy: \n"
          ]
        },
        {
          "output_type": "display_data",
          "data": {
            "text/plain": [
              "<IPython.core.display.HTML object>"
            ],
            "text/html": [
              "<video alt=\"videos/gw.mp4\" autoplay\n",
              "                      loop controls style=\"height: 400px;\">\n",
              "                    <source src=\"data:video/mp4;base64,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\" type=\"video/mp4\" />\n",
              "                 </video>"
            ]
          },
          "metadata": {}
        },
        {
          "output_type": "stream",
          "name": "stdout",
          "text": [
            "\n",
            "[PI]final policy: \n"
          ]
        },
        {
          "output_type": "display_data",
          "data": {
            "text/plain": [
              "<IPython.core.display.HTML object>"
            ],
            "text/html": [
              "<video alt=\"videos/gw.mp4\" autoplay\n",
              "                      loop controls style=\"height: 400px;\">\n",
              "                    <source src=\"data:video/mp4;base64,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\" type=\"video/mp4\" />\n",
              "                 </video>"
            ]
          },
          "metadata": {}
        },
        {
          "output_type": "display_data",
          "data": {
            "text/plain": [
              "<Figure size 432x288 with 1 Axes>"
            ],
            "image/png": "[encoded data removed]"
          },
          "metadata": {
            "needs_background": "light"
          }
        }
      ]
    },
    {
      "cell_type": "markdown",
      "metadata": {
        "id": "2V1QdoH-xFX0"
      },
      "source": [
        "# Part 2 - Tabular RL"
      ]
    },
    {
      "cell_type": "markdown",
      "metadata": {
        "id": "Qf51VhoPxbV4"
      },
      "source": [
        "## Question 2.1\n",
        "\n",
        "The code below collects two datasets of transitions (containing states, actions, rewards and next states) for a discrete MDP.\n",
        "\n",
        "For each of the datasets:\n",
        "\n",
        "1. Estimate the transitions and rewards, $\\hat{P}$ and $\\hat{R}$.\n",
        "2. Compute the optimal value function and the optimal policy with respect to the estimated MDP (defined by $\\hat{P}$ and $\\hat{R}$), which we denote by $\\hat{\\pi}$ and $\\hat{V}$.\n",
        "3. Numerically compare the performance of $\\hat{\\pi}$ and $\\pi^\\star$ (the true optimal policy), and the error between $\\hat{V}$ and $V^*$ (the true optimal value function).\n",
        "\n",
        "Which of the two data collection methods do you think is better? Why?"
      ]
    },
    {
      "cell_type": "markdown",
      "metadata": {
        "id": "eWSyewG2EZpJ"
      },
      "source": [
        "### **Answer**\n",
        "\n",
        "[answer last question + implementation below]\n",
        "\n",
        "I think that the method use in get_uniform_dataset is better, because we can see by comparing the values functions that the value function obtained by the policy iteration on P_unif and R_unif is much closer to the V* than value function obtained by the policy iteration on P_rand and R_rand.\n",
        "\n",
        "We can explain that by the fact that by taking a random policy, because we start always at the same state, we lack of exploration. Indeed, due to the walls, we tend to get stuck all time in the same area. We need to be very lucky to get a random policy which allows us to bypass the wall. While with uniform sampling, we pick a random state and we take an action. We have more chance to visit all the states, because we don't need to have the right behavior to bypass the walls. "
      ]
    },
    {
      "cell_type": "code",
      "metadata": {
        "id": "8lNPhB28EcGd"
      },
      "source": [
        "def get_random_policy_dataset(env, n_samples):\n",
        "  \"\"\"Get a dataset following a random policy to collect data.\"\"\"\n",
        "  states = []\n",
        "  actions = []\n",
        "  rewards = []\n",
        "  next_states = []\n",
        "  \n",
        "  state = env.reset()\n",
        "  for _ in range(n_samples):\n",
        "    action = env.action_space.sample()\n",
        "    next_state, reward, is_terminal, info = env.step(action)\n",
        "    states.append(state)\n",
        "    actions.append(action)\n",
        "    rewards.append(reward)\n",
        "    next_states.append(next_state)\n",
        "    # update state\n",
        "    state = next_state\n",
        "    if is_terminal:\n",
        "      state = env.reset()\n",
        "\n",
        "  dataset = (states, actions, rewards, next_states)\n",
        "  return dataset\n",
        "\n",
        "def get_uniform_dataset(env, n_samples):\n",
        "  \"\"\"Get a dataset by uniformly sampling states and actions.\"\"\"\n",
        "  states = []\n",
        "  actions = []\n",
        "  rewards = []\n",
        "  next_states = []\n",
        "  for _ in range(n_samples):\n",
        "    state = env.observation_space.sample()\n",
        "    action = env.action_space.sample()\n",
        "    next_state, reward, is_terminal, info = env.sample(state, action)\n",
        "    states.append(state)\n",
        "    actions.append(action)\n",
        "    rewards.append(reward)\n",
        "    next_states.append(next_state)\n",
        "\n",
        "  dataset = (states, actions, rewards, next_states)\n",
        "  return dataset\n",
        "\n",
        "\n",
        "# Collect two different datasets\n",
        "num_samples = 500\n",
        "env = get_env()\n",
        "dataset_1 = get_random_policy_dataset(env, num_samples)\n",
        "dataset_2 = get_uniform_dataset(env, num_samples)\n",
        "\n",
        "\n",
        "# Item 3: Estimate the MDP with the two datasets; compare the optimal value\n",
        "# functions in the true and in the estimated MDPs\n",
        "P_rand = np.zeros((31,4,31))\n",
        "R_rand = np.zeros((31,4))\n",
        "N_rand = np.zeros((31,4,31))\n",
        "rand_states, rand_actions, rand_rewards, rand_next_states = dataset_1\n",
        "\n",
        "P_unif = np.zeros((31,4,31))\n",
        "R_unif = np.zeros((31,4))\n",
        "N_unif = np.zeros((31,4,31))\n",
        "unif_states, unif_actions, unif_rewards, unif_next_states = dataset_2\n",
        "\n",
        "#Compute the number of occurence of each transition in the dataset.\n",
        "for i in range(num_samples):\n",
        "  N_rand[rand_states[i],rand_actions[i],rand_next_states[i]]+=1\n",
        "  N_unif[unif_states[i],unif_actions[i],unif_next_states[i]]+=1\n",
        "\n",
        "#Compute some estimate of P and R for the two data sets.\n",
        "for s in range(Ns):\n",
        "  for a in range(Na):\n",
        "    N_s_a_rand = np.sum(N_rand[s,a])\n",
        "    N_s_a_unif = np.sum(N_unif[s,a])\n",
        "\n",
        "    for i in range(num_samples):\n",
        "      s_i_rand = rand_states[i]\n",
        "      a_i_rand = rand_actions[i]\n",
        "      r_i_rand = rand_rewards[i]\n",
        "\n",
        "      s_i_unif = unif_states[i]\n",
        "      a_i_unif = unif_actions[i]\n",
        "      r_i_unif = unif_rewards[i]\n",
        "\n",
        "      if(s == s_i_rand and a == a_i_rand):\n",
        "        R_rand[s,a] += r_i_rand/N_s_a_rand\n",
        "      if(s == s_i_unif and a == a_i_unif):\n",
        "        R_unif[s,a] += r_i_unif/N_s_a_unif\n",
        "    for s_p in range(Ns):\n",
        "      if(N_s_a_rand != 0):\n",
        "         P_rand[s,a,s_p] = N_rand[s,a,s_p]/N_s_a_rand\n",
        "      if(N_s_a_unif != 0):\n",
        "        P_unif[s,a,s_p] = N_unif[s,a,s_p]/N_s_a_unif\n",
        "      \n",
        "\n",
        "\n",
        "\n",
        "Pi_rand, V_rand = policy_iteration(P_rand,R_rand,gamma,tol)\n",
        "Pi_unif, V_unif = policy_iteration(P_unif,R_unif,gamma,tol)\n",
        "\n",
        "error_rand = np.linalg.norm(V_rand-PI_V,ord=np.inf)\n",
        "error_unif = np.linalg.norm(V_unif-PI_V,ord=np.inf)"
      ],
      "execution_count": null,
      "outputs": []
    },
    {
      "cell_type": "code",
      "source": [
        "print(\"[PI]Policy for random policy sample\")\n",
        "render_policy(env, Pi_rand)\n",
        "print(\"[PI]Policy for uniform sample\")\n",
        "render_policy(env, Pi_unif)\n",
        "print(\"[PI]pi *\")\n",
        "render_policy(env,PI_policy)\n",
        "print(f\"The error(norm inf) between V_rand and V* for the random sample is  = {error_rand}\")\n",
        "print(f\"The error(norm inf) for the uniform sample is = {error_unif}\")"
      ],
      "metadata": {
        "id": "N2QdT_WUtsYb",
        "colab": {
          "base_uri": "https://localhost:8080/",
          "height": 1000
        },
        "outputId": "48128e56-9a5b-4a20-fb76-95c62ad48ba4"
      },
      "execution_count": null,
      "outputs": [
        {
          "output_type": "stream",
          "name": "stdout",
          "text": [
            "[PI]Policy for random policy sample\n"
          ]
        },
        {
          "output_type": "display_data",
          "data": {
            "text/plain": [
              "<IPython.core.display.HTML object>"
            ],
            "text/html": [
              "<video alt=\"videos/gw.mp4\" autoplay\n",
              "                      loop controls style=\"height: 400px;\">\n",
              "                    <source src=\"data:video/mp4;base64,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\" type=\"video/mp4\" />\n",
              "                 </video>"
            ]
          },
          "metadata": {}
        },
        {
          "output_type": "stream",
          "name": "stdout",
          "text": [
            "[PI]Policy for uniform sample\n"
          ]
        },
        {
          "output_type": "display_data",
          "data": {
            "text/plain": [
              "<IPython.core.display.HTML object>"
            ],
            "text/html": [
              "<video alt=\"videos/gw.mp4\" autoplay\n",
              "                      loop controls style=\"height: 400px;\">\n",
              "                    <source src=\"data:video/mp4;base64,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\" type=\"video/mp4\" />\n",
              "                 </video>"
            ]
          },
          "metadata": {}
        },
        {
          "output_type": "stream",
          "name": "stdout",
          "text": [
            "[PI]pi *\n"
          ]
        },
        {
          "output_type": "display_data",
          "data": {
            "text/plain": [
              "<IPython.core.display.HTML object>"
            ],
            "text/html": [
              "<video alt=\"videos/gw.mp4\" autoplay\n",
              "                      loop controls style=\"height: 400px;\">\n",
              "                    <source src=\"data:video/mp4;base64,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\" type=\"video/mp4\" />\n",
              "                 </video>"
            ]
          },
          "metadata": {}
        },
        {
          "output_type": "stream",
          "name": "stdout",
          "text": [
            "The error(norm inf) between V_rand and V* for the random sample is  = 99.99999012613159\n",
            "The error(norm inf) for the uniform sample is = 1.9175487212765887\n"
          ]
        }
      ]
    },
    {
      "cell_type": "markdown",
      "metadata": {
        "id": "UKINsa_yGLGL"
      },
      "source": [
        "## Question 2.2\n",
        "\n",
        "Suppose that $\\hat{P}$ and $\\hat{R}$ are estimated from a dataset of exactly $N$ i.i.d. samples from **each** state-action pair. This means that, for each $(s,a)$, we have $N$ samples $\\{(s_1',r_1, \\dots, s_N', r_N\\}$, where $s_i' \\sim P(\\cdot | s,a)$ and $r_i \\sim R(s,a)$ for $i=1,\\dots,N$, and\n",
        "$$ \\hat{P}(s'|s,a) = \\frac{1}{N}\\sum_{i=1}^N \\mathbb{1}(s_i' = s'), $$\n",
        "$$ \\hat{R}(s,a) = \\frac{1}{N}\\sum_{i=1}^N r_i.$$\n",
        "Suppose that $R$ is a distribution with support in $[0,1]$. Let $\\hat{V}$ be the optimal value function computed in the empirical MDP (i.e., the one with transitions $\\hat{P}$ and rewards $\\hat{R}$). For any $\\delta\\in(0,1)$, derive an upper bound to the error\n",
        "\n",
        "$$ \\| \\hat{V} - V^* \\|_\\infty $$\n",
        "\n",
        "which holds with probability at least $1-\\delta$.\n",
        "\n",
        "**Note** Your bound should only depend on deterministic quantities like $N$, $\\gamma$, $\\delta$, $S$, $A$. It should *not* dependent on the actual random samples.\n",
        "\n",
        "**Hint** The following two inequalities may be helpful.\n",
        "\n",
        "1. **A (simplified) lemma**. For any state $\\bar{s}$,\n",
        "\n",
        "$$ |\\hat{V}(\\bar{s}) - V^*(\\bar{s})| \\leq \\frac{1}{1-\\gamma}\\max_{s,a} \\left| R(s,a) - \\hat{R}(s,a) + \\gamma \\sum_{s'}(P(s'|s,a) - \\hat{P}(s'|s,a)) V^*(s') \\right|$$\n",
        "\n",
        "2. **Hoeffding's inequality**. Let $X_1, \\dots X_N$ be $N$ i.i.d. random variables bounded in the interval $[0,b]$ for some $b>0$. Let $\\bar{X} = \\frac{1}{N}\\sum_{i=1}^N X_i$ be the empirical mean. Then, for any $\\epsilon > 0$,\n",
        "\n",
        "$$ \\mathbb{P}(|\\bar{X} - \\mathbb{E}[\\bar{X}]| > \\epsilon) \\leq 2e^{-\\frac{2N\\epsilon^2}{b^2}}.$$"
      ]
    },
    {
      "cell_type": "markdown",
      "metadata": {
        "id": "fKmdulLaMoiN"
      },
      "source": [
        "### **Answer**\n",
        "\n",
        "Let's define $X_i(s,a) = r_i+\\gamma \\sum_{s'}1(s_i'=s')V^*(s')$ for $(s,a) \\in S\\times A$, so we have $\\bar X = \\hat R(s,a)+\\sum_{s'}\\hat P(s'|s,a)V^*(s')$.\n",
        "\n",
        "Let's note that $r_i+\\gamma \\sum_{s'}1(s_i'=s')V^*(s')\\leq 1+\\frac{\\gamma}{1-\\gamma}$ and $\\mathbb{E}[\\bar X]=R(s,a)+\\sum_{s'}P(s'|s,a)V^*(s')$. Indeed, for $(s,a)$ we have :\n",
        "$$\n",
        "\\begin{equation}\n",
        "\\begin{split}\n",
        "\\mathbb{E}[\\bar X]&=\\mathbb{E}[\\hat R(s,a)]+\\gamma\\sum_{s'}V^*(s)\\mathbb{E}[\\hat P(s'|s,a)]\\\\\n",
        "&=\\frac{1}{N}\\sum_{i=1}^N\\mathbb{E}[r_i]+\\gamma\\sum_{s'}V^*(s)\\frac{1}{N}\\sum_{i=1}^N\\mathbb{E}[1(s_i'=s')]\\\\\n",
        "&=\\mathbb{E}[r_1]+\\gamma\\sum_{s'}V^*(s)\\mathbb{E}[1(s_1'=s')] \\text{ because } (r_i)_i \\text{ and } (s'_i)_i \\text{ are i.i.d.}\\\\\n",
        "&=R(s,a)+\\gamma\\sum_{s'}V^*(s)P(s'|s,a)\n",
        "\\end{split}\n",
        "\\end{equation}\n",
        "$$\n",
        "We can try to apply Hoeffding's inequality at $\\frac{1}{1-\\gamma}\\max_{s,a}\\left|R(s,a)-\\hat R(s,a)+\\gamma \\sum_{s'}(P(s'|s,a)-\\hat P(s'|s,a))V^*(s')\\right|$, since if we find an upper bound who holds with probability at lest $1-\\delta$ for this term, this upper bound hold for $\\left\\|\\hat V-V^*\\right\\|_{\\infty}$ with probability at lest $1-\\delta$.\n",
        "\n",
        "We have :\n",
        "$$\n",
        "\\begin{equation}\n",
        "\\begin{split}\n",
        "&\\mathbb{P}(\\frac{1}{1-\\gamma}\\max_{s,a}\\left|R(s,a)-\\hat R(s,a)+\\gamma \\sum_{s'}(P(s'|s,a)-\\hat P(s'|s,a))V^*(s')\\right|\\leq\\epsilon)\\\\\n",
        "&\\leftrightarrow\\mathbb{P}(\\max_{s,a}\\left|R(s,a)-\\hat R(s,a)+\\gamma \\sum_{s'}(P(s'|s,a)-\\hat P(s'|s,a))V^*(s')\\right|\\leq (1-\\gamma)\\epsilon)\\\\\n",
        "&\\leftrightarrow\\Pi_{s,a}\\mathbb{P}(\\left|R(s,a)-\\hat R(s,a)+\\gamma \\sum_{s'}(P(s'|s,a)-\\hat P(s'|s,a))V^*(s')\\right|\\leq (1-\\gamma)\\epsilon)\\\\\n",
        "&\\leftrightarrow\\Pi_{s,a}(1-\\mathbb{P}(\\left|R(s,a)-\\hat R(s,a)+\\gamma \\sum_{s'}(P(s'|s,a)-\\hat P(s'|s,a))V^*(s')\\right|> (1-\\gamma)\\epsilon))\n",
        "\\end{split}\n",
        "\\end{equation}\n",
        "$$\n",
        "So in order to have $\\Pi_{s,a}(1-\\mathbb{P}(\\left|R(s,a)-\\hat R(s,a)+\\gamma \\sum_{s'}(P(s'|s,a)-\\hat P(s'|s,a))V^*(s')\\right|> (1-\\gamma)\\epsilon))\\geq 1-\\delta$ we want for all $(s,a),\\mathbb{P}(\\left|R(s,a)-\\hat R(s,a)+\\gamma \\sum_{s'}(P(s'|s,a)-\\hat P(s'|s,a))V^*(s')\\right|>(1-\\gamma)\\epsilon)\\leq 1-(1-\\delta)^{\\frac{1}{|S||A|}}$.\n",
        "\n",
        "Let's apply hoeffding, we get : $\\mathbb{P}(\\left|R(s,a)-\\hat R(s,a)+\\gamma \\sum_{s'}(P(s'|s,a)-\\hat P(s'|s,a))V^*(s')\\right|>(1-\\gamma)\\epsilon)\\leq2e^{\\frac{-2N(1-\\gamma)^2\\epsilon^2}{(1+\\frac{\\gamma}{1-\\gamma})^2}}$\n",
        "\n",
        "Let's determine $\\epsilon$ :\n",
        "$$\n",
        "\\begin{equation}\n",
        "\\begin{split}\n",
        "&1-(1-\\delta)^\\frac{1}{|S||A|}=2e^{\\frac{-2N(1-\\gamma)^2\\epsilon^2}{(1+\\frac{\\gamma}{1-\\gamma})^2}}\\\\\n",
        "&\\leftrightarrow ln(\\frac{1-(1-\\delta)^\\frac{1}{|S||A|}}{2})=\\frac{-2N(1-\\gamma)^2\\epsilon^2}{(1+\\frac{\\gamma}{1-\\gamma})^2}\\\\\n",
        "&\\leftrightarrow (ln(2)-ln(1-(1-\\delta)^\\frac{1}{|S||A|}))\\frac{(1+\\frac{\\gamma}{1-\\gamma})^2}{2N(1-\\gamma)^2}=\\epsilon^2\\\\\n",
        "&\\leftrightarrow \\frac{1+\\frac{\\gamma}{1-\\gamma}}{\\sqrt{2N}(1-\\gamma)}\\sqrt{ln(2)-ln(1-(1-\\delta)^\\frac{1}{|S||A|})}=\\epsilon\\\\\n",
        "&\\leftrightarrow \\epsilon =\\frac{1}{\\sqrt{2N}(1-\\gamma)^2}\\sqrt{ln(2)-ln(1-(1-\\delta)^\\frac{1}{|S||A|})}\n",
        "\\end{split}\n",
        "\\end{equation}\n",
        "$$\n",
        "Finaly, we got :\n",
        "$$\n",
        "\\mathbb{P}(\\left\\|\\hat V - V^*\\right\\|_{\\infty}\\leq\\frac{1}{\\sqrt{2N}(1-\\gamma)^2}\\sqrt{ln(2)-ln(1-(1-\\delta)^\\frac{1}{|S||A|})})\\geq 1-\\delta\n",
        "$$"
      ]
    },
    {
      "cell_type": "markdown",
      "metadata": {
        "id": "tpqwCBG2MwxO"
      },
      "source": [
        "## Question 2.3\n",
        "\n",
        "Suppose once again that we are given a dataset of $N$ samples in the form of tuples $(s_i,a_i,s_i',r_i)$. We know that each tuple contains a valid transition from the true MDP, i.e., $s_i' \\sim P(\\cdot | s_i, a_i)$ and $r_i \\sim R(s_i,a_i)$, while the state-action pairs $(s_i,a_i)$ from which the transition started can be arbitrary.\n",
        "\n",
        "Suppose we want to apply Q-learning to this MDP. Can you think of a way to leverage this offline data to improve the sample-efficiency of the algorithm? What if we were using SARSA instead?"
      ]
    },
    {
      "cell_type": "markdown",
      "metadata": {
        "id": "mbYTKetHOYU_"
      },
      "source": [
        "### **Answer**\n",
        "\n",
        "We can do the same things that the Tabular Dyna-Q algorithm, but instead of just make the planning on our observed states, we can add the given dataset. Indeed, as we can see in the example of the course, lots of planning increase the  convergence speed. In the first part of this algorithm, we can change the $\\epsilon$-greedy policy by if $s_i$ is in our data set we repclace uniform(A) by uniform($A\\backslash\\left\\{a_i\\right\\}$) to force the exploration.\n",
        "\n",
        "For SARSA, as it's an on-policy algorithm, we can't use this method. Indeed, we don't know what kind of policy our data set follow. If this policy is not close to the target policy, the algorithm may diverge."
      ]
    },
    {
      "cell_type": "markdown",
      "metadata": {
        "id": "542QxKsSOs21"
      },
      "source": [
        "# Part 3 - RL with Function Approximation"
      ]
    },
    {
      "cell_type": "markdown",
      "metadata": {
        "id": "OiGZBiJ4PiIE"
      },
      "source": [
        "## Question 3.1\n",
        "\n",
        "Given a datset $(s_i, a_i, r_i, s_i')$ of (states, actions, rewards, next states), the Fitted Q-Iteration (FQI) algorithm proceeds as follows:\n",
        "\n",
        "\n",
        "* We start from a $Q$ function $Q_0 \\in \\mathcal{F}$, where $\\mathcal{F}$ is a function space;\n",
        "* At every iteration $k$, we compute $Q_{k+1}$ as:\n",
        "\n",
        "$$\n",
        "Q_{k+1}\\in\\arg\\min_{f\\in\\mathcal{F}} \\frac{1}{2}\\sum_{i=1}^N\n",
        "\\left(\n",
        "  f(s_i, a_i) - y_i^k\n",
        "\\right)^2 + \\lambda \\Omega(f)\n",
        "$$\n",
        "where $y_i^k = r_i + \\gamma \\max_{a'}Q_k(s_i', a')$, $\\Omega(f)$ is a regularization term and $\\lambda > 0$ is the regularization coefficient.\n",
        "\n",
        "\n",
        "Consider FQI with *linear* function approximation. That is, for a given feature map $\\phi : S \\rightarrow \\mathbb{R}^d$, we consider a parametric family of $Q$ functions $Q_\\theta(s,a) = \\phi(s)^T\\theta_a$ for $\\theta_a\\in\\mathbb{R}^d$. Suppose we are applying FQI on a given dataset of $N$ tuples of the form $(s_i, a_i, r_i, s_i')$ and we are at the $k$-th iteration. Let $\\theta_k \\in\\mathbb{R}^{d \\times A}$ be our current parameter. Derive the *closed-form* update to find $\\theta_{k+1}$, using $\\frac{1}{2}\\sum_a ||\\theta_a||_2^2$ as regularization."
      ]
    },
    {
      "cell_type": "markdown",
      "metadata": {
        "id": "7jx7aE41DkEM"
      },
      "source": [
        "### **Answer**\n",
        "Let's define $L(\\theta) := \\frac{1}{2}\\sum_{i=1}^N(\\phi(s_i)^T\\theta_{a_i}-y_i^k)+\\frac{\\lambda}{2}\\sum_a\\left\\|\\theta_{a} \\right\\|_2^2$.\n",
        "$\\theta \\mapsto L(\\theta)$ is convex because it's a sum of convex function. So in order to find its minimum, we should find $\\theta$ such that $\\nabla L(\\theta)=0$.\n",
        "Let $a \\in A$, let's compute $\\nabla L(\\theta)$ :\n",
        "$$\n",
        "\\frac{\\partial L(\\theta)}{\\partial \\theta_a}=\\sum_{i=1}^N1_{\\left\\{a_i=a\\right\\}}\\phi(s_i)(\\phi(s_i)^T\\theta_a-y_i^k)+\\lambda\\theta_a\n",
        "$$\n",
        "$$\n",
        "\\nabla L(\\theta) = \\left[\\sum_{i=1}^N1_{\\left\\{a_i=a\\right\\}}\\phi(s_i)(\\phi(s_i)^T\\theta_a-y_i^k)+\\lambda\\theta_a\\right]_{a \\in A}\n",
        "$$\n",
        "Hence $\\nabla L(\\theta)=0 \\leftrightarrow \\forall a \\in A,\\sum_{i=1}^N1_{\\left\\{a_i=a\\right\\}}\\phi(s_i)(\\phi(s_i)^T\\theta_a-y_i^k)+\\lambda\\theta_a = 0 $. So for $a \\in A$ we have :\n",
        "$$\n",
        "\\theta_{k+1,a}=(\\lambda I_d+\\sum_{i=1}^N 1_{\\left\\{ai=a \\right\\}} \\phi(s_i)\\phi(s_i)^T)^{-1}(\\sum_{i=1}^N 1_{\\left\\{ai=a \\right\\}}\\phi(s_i)y_i^k)\n",
        "$$"
      ]
    },
    {
      "cell_type": "markdown",
      "metadata": {
        "id": "ewHzjm7MVGBg"
      },
      "source": [
        "## Question 3.2\n",
        "\n",
        "The code below creates a larger gridworld (with more states than the one used in the previous questions), and defines a feature map. Implement linear FQI to this environment (in the function `linear_fqi()` below), and compare the approximated $Q$ function to the optimal $Q$ function computed with value iteration.\n",
        "\n",
        "Can you improve the feature map in order to reduce the approximation error?"
      ]
    },
    {
      "cell_type": "markdown",
      "metadata": {
        "id": "Tu4g-HSnEcBs"
      },
      "source": [
        "### **Answer**\n",
        "\n",
        "[explanation about how you tried to reduce the approximation error + FQI implementation below]\n",
        "\n",
        "For reduce the approximation error, first, I tried to update the dimension of the feature map. My idea was with more features, the algorithm will able to better fit the target (here $y_i^k$).\n",
        "\n",
        "The second idea was to tune the sigma parameter. Indeed, the higher simga is, the more we gather information about the neighborhood of each state, so we have a kind of \"approximation\" of our states. The lower sigma is, the more we \"isolate\" each state, that is, we have the true information about our states. We are more accurate with a small sigma, but we problem is we are more sensitive by the noise introduce by the samples during the training. With a little sigma we have to perform a perfect exploration. If we miss a state, we will get 0 information about transition from this state, but if we have an \"approximation\" (with a wide sigma) of a state by its neighborhood, even though we never sample this state, we will get information about this state by sampling some state in its neighborhood.\n",
        "\n",
        "So we have a trade-off between approximate our state with a wide sigma and be accurate with a little sigma.\n",
        "\n",
        "Another parameter that influences our approximation is the number of samples that we use. We need enough sample in order to converge. And more we increase the dim of feature map the more we need some samples. But use too much samples increase the computation time for nothing, so we need to find a balance."
      ]
    },
    {
      "cell_type": "code",
      "metadata": {
        "id": "ZovF3VXOVfCs"
      },
      "source": [
        "def get_large_gridworld():\n",
        "  \"\"\"Creates an instance of a grid-world MDP with more states.\"\"\"\n",
        "  walls = [(ii, 10) for ii in range(15) if (ii != 7 and ii != 8)]\n",
        "  env = GridWorld(\n",
        "      nrows=15,\n",
        "      ncols=15,\n",
        "      reward_at = {(14, 14):1.0},\n",
        "      walls=tuple(walls),\n",
        "      success_probability=0.9,\n",
        "      terminal_states=((14, 14),)\n",
        "  )\n",
        "  return env\n",
        "\n",
        "\n",
        "class GridWorldFeatureMap:\n",
        "  \"\"\"Create features for state-action pairs\n",
        "  \n",
        "  Args:\n",
        "    dim: int\n",
        "      Feature dimension\n",
        "    sigma: float\n",
        "      RBF kernel bandwidth\n",
        "  \"\"\"\n",
        "  def __init__(self, env, dim=15, sigma=0.25):\n",
        "    self.index2coord = env.index2coord\n",
        "    self.n_states = env.Ns\n",
        "    self.n_actions = env.Na\n",
        "    self.dim = dim\n",
        "    self.sigma = sigma\n",
        "\n",
        "    n_rows = env.nrows\n",
        "    n_cols = env.ncols\n",
        "\n",
        "    # build similarity matrix\n",
        "    sim_matrix = np.zeros((self.n_states, self.n_states))\n",
        "    for ii in range(self.n_states):\n",
        "        row_ii, col_ii = self.index2coord[ii]\n",
        "        x_ii = row_ii / n_rows\n",
        "        y_ii = col_ii / n_cols\n",
        "        for jj in range(self.n_states):\n",
        "            row_jj, col_jj = self.index2coord[jj]\n",
        "            x_jj = row_jj / n_rows\n",
        "            y_jj = col_jj / n_cols\n",
        "            dist = np.sqrt((x_jj - x_ii) ** 2.0 + (y_jj - y_ii) ** 2.0)\n",
        "            sim_matrix[ii, jj] = np.exp(-(dist / sigma) ** 2.0)\n",
        "\n",
        "    # factorize similarity matrix to obtain features\n",
        "    uu, ss, vh = np.linalg.svd(sim_matrix, hermitian=True)\n",
        "    self.feats = vh[:dim, :]\n",
        "\n",
        "  def map(self, observation):\n",
        "    feat = self.feats[:, observation].copy()\n",
        "    return feat"
      ],
      "execution_count": null,
      "outputs": []
    },
    {
      "cell_type": "code",
      "metadata": {
        "id": "InCfu7F9-TbS",
        "colab": {
          "base_uri": "https://localhost:8080/",
          "height": 508
        },
        "outputId": "1a192c77-78df-4447-aedb-b859da71cd77"
      },
      "source": [
        "env = get_large_gridworld()\n",
        "feat_map = GridWorldFeatureMap(env)\n",
        "\n",
        "# Visualize large gridworld\n",
        "render_policy(env)\n",
        "\n",
        "# The features have dimension (feature_dim).\n",
        "feature_example = feat_map.map(1) # feature representation of s=1\n",
        "print(feature_example)\n",
        "\n",
        "# Initial vector theta representing the Q function\n",
        "theta = np.zeros((feat_map.dim, env.action_space.n))\n",
        "print(theta.shape)\n",
        "print(feature_example @ theta) # approximation of Q(s=1, a)"
      ],
      "execution_count": null,
      "outputs": [
        {
          "output_type": "display_data",
          "data": {
            "text/plain": [
              "<IPython.core.display.HTML object>"
            ],
            "text/html": [
              "<video alt=\"videos/gw.mp4\" autoplay\n",
              "                      loop controls style=\"height: 400px;\">\n",
              "                    <source src=\"data:video/mp4;base64,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\" type=\"video/mp4\" />\n",
              "                 </video>"
            ]
          },
          "metadata": {}
        },
        {
          "output_type": "stream",
          "name": "stdout",
          "text": [
            "[-0.02850699  0.063555   -0.02169407 -0.06441918  0.04505794 -0.07537777\n",
            "  0.08506473 -0.09325287  0.09644275 -0.00535101  0.11632395 -0.13074085\n",
            "  0.00921342 -0.13853662  0.07118419]\n",
            "(15, 4)\n",
            "[0. 0. 0. 0.]\n"
          ]
        }
      ]
    },
    {
      "cell_type": "code",
      "metadata": {
        "id": "p21KMmruugO1",
        "colab": {
          "base_uri": "https://localhost:8080/",
          "height": 669
        },
        "outputId": "63980605-d0af-41d5-b8ee-749a441ba714"
      },
      "source": [
        "def linear_fqi(env, feat_map, num_iterations, lambd=0.1, gamma=0.95):\n",
        "  \"\"\"\n",
        "  # Linear FQI implementation\n",
        "  # TO BE COMPLETED\n",
        "  \"\"\"\n",
        "  n_samples = 5000\n",
        "  #get a dataset\n",
        "  dataset = get_uniform_dataset(env, n_samples)\n",
        "  #dataset = get_random_policy_dataset(env, n_samples)\n",
        "  states, actions, rewards, next_states = dataset\n",
        "\n",
        "  theta = np.zeros((feat_map.dim, env.Na))\n",
        "\n",
        "  for it in range(num_iterations):\n",
        "    #Make a copy of theta to make we update on the last iteration of theta.\n",
        "    theta_copy = theta.copy()\n",
        "    for a in range(env.Na):\n",
        "      sum_1=np.zeros((theta.shape[0],theta.shape[0]))\n",
        "      sum_2=np.zeros(theta.shape[0])\n",
        "      for i in range(n_samples):\n",
        "        if a==actions[i]:\n",
        "          phi_s = feat_map.map(states[i])\n",
        "          sum_1+=np.outer(phi_s,phi_s)\n",
        "          y = rewards[i]+gamma*np.max(theta_copy.T@feat_map.map(next_states[i]))\n",
        "          sum_2+=phi_s*y\n",
        "      theta[:,a]=np.linalg.inv(lambd*np.eye(sum_1.shape[0])+sum_1)@sum_2\n",
        "    \n",
        "  \n",
        "  return theta\n",
        "\n",
        "# ----------------------------\n",
        "# Environment and feature map\n",
        "# ----------------------------\n",
        "env = get_large_gridworld()\n",
        "# you can change the parameters of the feature map, and even try other maps!\n",
        "feat_map = GridWorldFeatureMap(env, dim=85, sigma=0.2)\n",
        "\n",
        "# -------\n",
        "# Run FQI\n",
        "# -------\n",
        "theta = linear_fqi(env, feat_map, num_iterations=100)\n",
        "\n",
        "# Compute and run greedy policy\n",
        "Q_fqi = np.zeros((env.Ns, env.Na))\n",
        "for ss in range(env.Ns):\n",
        "  state_feat = feat_map.map(ss)\n",
        "  Q_fqi[ss, :] = state_feat @ theta\n",
        "\n",
        "V_fqi = Q_fqi.max(axis=1)\n",
        "policy_fqi = Q_fqi.argmax(axis=1)\n",
        "render_policy(env, policy_fqi, horizon=100)\n",
        "\n",
        "# Visualize the approximate value function in the gridworld.\n",
        "img = env.get_layout_img(V_fqi)    \n",
        "plt.imshow(img)\n",
        "plt.show()"
      ],
      "execution_count": null,
      "outputs": [
        {
          "output_type": "display_data",
          "data": {
            "text/plain": [
              "<IPython.core.display.HTML object>"
            ],
            "text/html": [
              "<video alt=\"videos/gw.mp4\" autoplay\n",
              "                      loop controls style=\"height: 400px;\">\n",
              "                    <source src=\"data:video/mp4;base64,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\" type=\"video/mp4\" />\n",
              "                 </video>"
            ]
          },
          "metadata": {}
        },
        {
          "output_type": "display_data",
          "data": {
            "text/plain": [
              "<Figure size 432x288 with 1 Axes>"
            ],
            "image/png": "[encoded data removed]"
          },
          "metadata": {
            "needs_background": "light"
          }
        }
      ]
    },
    {
      "cell_type": "code",
      "source": [],
      "metadata": {
        "id": "YtnotPncmR26"
      },
      "execution_count": null,
      "outputs": []
    }
  ]
}